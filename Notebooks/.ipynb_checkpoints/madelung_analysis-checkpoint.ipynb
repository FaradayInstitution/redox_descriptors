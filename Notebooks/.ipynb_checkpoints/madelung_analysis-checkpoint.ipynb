{
 "cells": [
  {
   "cell_type": "code",
   "execution_count": 1,
   "metadata": {},
   "outputs": [],
   "source": [
    "### Imports\n",
    "# General\n",
    "import json\n",
    "\n",
    "# Pymatgen\n",
    "from pymatgen import Structure, Element, Specie\n"
   ]
  },
  {
   "cell_type": "code",
   "execution_count": 2,
   "metadata": {},
   "outputs": [
    {
     "name": "stdout",
     "output_type": "stream",
     "text": [
      "59 LiMO2 and Li2MO3 structures loaded.\n"
     ]
    }
   ],
   "source": [
    "# Load structures \n",
    "with open('../Data/LiMO2_Li2MO3_structures.json', 'r') as f:\n",
    "    structures = json.load(f)\n",
    "    \n",
    "# Covert back to Pymatgen Structure objects\n",
    "structures = [Structure.from_dict(i) for i in structures]\n",
    "print('{} LiMO2 and Li2MO3 structures loaded.'.format(len(structures)))"
   ]
  },
  {
   "cell_type": "markdown",
   "metadata": {},
   "source": [
    "In order to calculate Madelung site potentials, we need to add oxidation states to the structures. Various strategies exist for adding formal oxidation states in pymatgen: \n",
    "1. Using the bond valence analysis module\n",
    "2. Adding oxidation states by guess based on the composition\n",
    "3. Manually replacing Elements for Species we want \n",
    "\n",
    "Approaches 1. and 2. are generally less clunky but we are considering some uncommon oxidation states for certain transition metals, so will use the latter approach:"
   ]
  },
  {
   "cell_type": "code",
   "execution_count": 3,
   "metadata": {},
   "outputs": [],
   "source": [
    "for struc in structures:\n",
    "    \n",
    "    # Find and assign the transition metal \n",
    "    tm = [m for m in struc.composition if m.symbol not in ['Li','O']][0]\n",
    "    # Assign transition metal correct charge\n",
    "    if struc.composition.anonymized_formula == 'AB2C3':\n",
    "        tm_sp = Specie(tm.symbol, 4)\n",
    "    elif struc.composition.anonymized_formula == 'ABC2':\n",
    "        tm_sp = Specie(tm.symbol, 3)\n",
    "    else:\n",
    "        raise ValueError('Structure is not of the correct stoichiometry for this example.')\n",
    "    # Perform species replacement     \n",
    "    struc.replace_species({'Li': 'Li+', 'O': 'O2-', tm: tm_sp})"
   ]
  },
  {
   "cell_type": "code",
   "execution_count": null,
   "metadata": {},
   "outputs": [],
   "source": []
  },
  {
   "cell_type": "code",
   "execution_count": null,
   "metadata": {},
   "outputs": [],
   "source": []
  },
  {
   "cell_type": "code",
   "execution_count": null,
   "metadata": {},
   "outputs": [],
   "source": []
  },
  {
   "cell_type": "code",
   "execution_count": null,
   "metadata": {},
   "outputs": [],
   "source": []
  },
  {
   "cell_type": "code",
   "execution_count": null,
   "metadata": {},
   "outputs": [],
   "source": []
  }
 ],
 "metadata": {
  "kernelspec": {
   "display_name": "Python 3",
   "language": "python",
   "name": "python3"
  },
  "language_info": {
   "codemirror_mode": {
    "name": "ipython",
    "version": 3
   },
   "file_extension": ".py",
   "mimetype": "text/x-python",
   "name": "python",
   "nbconvert_exporter": "python",
   "pygments_lexer": "ipython3",
   "version": "3.7.4"
  }
 },
 "nbformat": 4,
 "nbformat_minor": 4
}
