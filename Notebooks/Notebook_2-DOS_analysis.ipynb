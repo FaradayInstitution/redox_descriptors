{
 "cells": [
  {
   "cell_type": "code",
   "execution_count": 1,
   "metadata": {},
   "outputs": [],
   "source": [
    "### Imports\n",
    "# General\n",
    "import numpy as np\n",
    "\n",
    "# Pymatgen\n",
    "from pymatgen.electronic_structure.dos import CompleteDos\n",
    "from pymatgen.electronic_structure.core import OrbitalType, Spin\n",
    "from pymatgen.io.vasp import Vasprun\n",
    "from pymatgen import Element\n",
    "\n",
    "# For integration \n",
    "from scipy.integrate import simps\n",
    "\n",
    "# Filter warning we get from reading in Vasprun.xml files\n",
    "from warnings import filterwarnings\n",
    "filterwarnings(action='ignore')\n",
    "\n",
    " # Render dicts/lists as json in jupyter notebooks\n",
    "if get_ipython().__class__.__name__=='ZMQInteractiveShell':\n",
    "    from IPython.display import JSON\n",
    "    from json import JSONEncoder, loads\n",
    "    class MyEncoder(JSONEncoder):\n",
    "        def default(self, o):\n",
    "            try:\n",
    "                return o.as_dict()\n",
    "            except:\n",
    "                try:\n",
    "                    return o.__dict__\n",
    "                except:\n",
    "                    return str(o)\n",
    "    show_json = lambda x : display(JSON(loads(MyEncoder().encode(x))))"
   ]
  },
  {
   "cell_type": "markdown",
   "metadata": {},
   "source": [
    "## Compare MgO and Cu$_2$O partial DOS\n",
    "Initially we compare the two extreme cases of MgO, in which the upper valence band is dominated by O p-states, and Cu2O, in which the upper valence band is dominated by Cu d-states."
   ]
  },
  {
   "cell_type": "code",
   "execution_count": 2,
   "metadata": {},
   "outputs": [],
   "source": [
    "# Set up\n",
    "O = Element('O')\n",
    "Mg = Element('Mg')\n",
    "Cu = Element('Cu')\n",
    "\n",
    "s_orb, p_orb, d_orb = OrbitalType(0), OrbitalType(1), OrbitalType(2)"
   ]
  },
  {
   "cell_type": "markdown",
   "metadata": {},
   "source": [
    "### MgO"
   ]
  },
  {
   "cell_type": "code",
   "execution_count": 3,
   "metadata": {},
   "outputs": [
    {
     "name": "stdout",
     "output_type": "stream",
     "text": [
      "O p contribution: 99.93%\n",
      "Mg s contribution: 0.07%\n"
     ]
    }
   ],
   "source": [
    "# Read in the vasprun and get the whole DOS\n",
    "MgO = Vasprun('../Data/electronic_structure_data/1_MgO/vasprun.xml')\n",
    "MgO_DOS = MgO.complete_dos\n",
    "\n",
    "# Isolate O p and Mg s orbital contributions \n",
    "O_DOS = MgO_DOS.get_element_spd_dos(el=O)\n",
    "O_p_DOS = O_DOS[p_orb]\n",
    "\n",
    "Mg_DOS = MgO_DOS.get_element_spd_dos(el=Mg)\n",
    "Mg_s_DOS = Mg_DOS[s_orb]\n",
    "\n",
    "# Get the energies and densities from up and down spin channel \n",
    "energies = O_p_DOS.energies\n",
    "O_p_tot = O_p_DOS.densities[Spin(1)] + O_p_DOS.densities[Spin(-1)]\n",
    "Mg_s_tot = Mg_s_DOS.densities[Spin(1)] + Mg_s_DOS.densities[Spin(-1)]\n",
    "\n",
    "# Integrate over some portion of the upper valence band \n",
    "efermi = MgO_DOS.efermi\n",
    "int_limit = 1.0 # eV integration limit\n",
    "\n",
    "upper_vbm_O_p = np.array([[en, dens] for en, dens in zip(energies, O_p_tot) \n",
    "                         if efermi - int_limit <= en <= efermi])\n",
    "upper_vbm_O_p = upper_vbm_O_p.transpose()\n",
    "\n",
    "upper_vbm_Mg_s = np.array([[en, dens] for en, dens in zip(energies, Mg_s_tot) \n",
    "                         if efermi - int_limit <= en <= efermi])\n",
    "upper_vbm_Mg_s = upper_vbm_Mg_s.transpose()\n",
    "\n",
    "O_p_int = simps(upper_vbm_O_p[1], upper_vbm_O_p[0])\n",
    "Mg_s_int = simps(upper_vbm_Mg_s[1], upper_vbm_Mg_s[0])\n",
    "\n",
    "# Calculate the percentage of each contribution to VBM \n",
    "vbm_int = O_p_int + Mg_s_int\n",
    "O_p_contrib = O_p_int/vbm_int*100\n",
    "Mg_s_contrib = Mg_s_int/vbm_int*100\n",
    "print(f\"O p contribution: {O_p_contrib :.2f}%\")\n",
    "print(f\"Mg s contribution: {Mg_s_contrib :.2f}%\")   "
   ]
  },
  {
   "cell_type": "markdown",
   "metadata": {},
   "source": [
    "### Cu$_2$O\n",
    "We now do the same for Cu2O, this time considering the Cu d-states."
   ]
  },
  {
   "cell_type": "code",
   "execution_count": 4,
   "metadata": {},
   "outputs": [
    {
     "name": "stdout",
     "output_type": "stream",
     "text": [
      "O p contribution: 13.43%\n",
      "Cu d contribution: 86.57%\n"
     ]
    }
   ],
   "source": [
    "# Read in the vasprun and get the whole DOS\n",
    "Cu2O = Vasprun('../Data/electronic_structure_data/2_Cu2O/vasprun.xml')\n",
    "Cu2O_DOS = Cu2O.complete_dos\n",
    "\n",
    "# Isolate O p and Cu d orbital contributions \n",
    "O_DOS = Cu2O_DOS.get_element_spd_dos(el=O)\n",
    "O_p_DOS = O_DOS[p_orb]\n",
    "\n",
    "Cu_DOS = Cu2O_DOS.get_element_spd_dos(el=Cu)\n",
    "Cu_d_DOS = Cu_DOS[d_orb]\n",
    "\n",
    "# Get the energies and densities from up and down spin channel \n",
    "energies = O_p_DOS.energies\n",
    "O_p_tot = O_p_DOS.densities[Spin(1)] + O_p_DOS.densities[Spin(-1)]\n",
    "Cu_d_tot = Cu_d_DOS.densities[Spin(1)] + Cu_d_DOS.densities[Spin(-1)]\n",
    "\n",
    "# Integrate over some portion of the upper valence band \n",
    "efermi = Cu2O_DOS.efermi\n",
    "int_limit = 1.0 # eV integration limit\n",
    "\n",
    "upper_vbm_O_p = np.array([[en, dens] for en, dens in zip(energies, O_p_tot) \n",
    "                         if efermi - int_limit <= en <= efermi])\n",
    "upper_vbm_O_p = upper_vbm_O_p.transpose()\n",
    "\n",
    "upper_vbm_Cu_d = np.array([[en, dens] for en, dens in zip(energies, Cu_d_tot) \n",
    "                         if efermi - int_limit <= en <= efermi])\n",
    "upper_vbm_Cu_d = upper_vbm_Cu_d.transpose()\n",
    "\n",
    "O_p_int = simps(upper_vbm_O_p[1], upper_vbm_O_p[0])\n",
    "Cu_d_int = simps(upper_vbm_Cu_d[1], upper_vbm_Cu_d[0])\n",
    "\n",
    "# Calculate the percentage of each contribution to VBM \n",
    "vbm_int = O_p_int + Cu_d_int\n",
    "O_p_contrib = O_p_int/vbm_int*100\n",
    "Cu_d_contrib = Cu_d_int/vbm_int*100\n",
    "print(f\"O p contribution: {O_p_contrib :.2f}%\")\n",
    "print(f\"Cu d contribution: {Cu_d_contrib :.2f}%\") "
   ]
  },
  {
   "cell_type": "markdown",
   "metadata": {},
   "source": [
    "## General function\n",
    "We now use a general function to compare M d-orbital to O p-orbital contribution to the upper VB in a Li-M-O battery cathode. As before, we only consider the M-d and O-p contributions and report each as a percentage of the sum of these. As a demonstration, we look at the different contributions to the upper VB in LiRuO2, LiRu2O3, LiWO2 and Li2WO3. "
   ]
  },
  {
   "cell_type": "code",
   "execution_count": 9,
   "metadata": {},
   "outputs": [],
   "source": [
    "def upper_VB_contribs(vasprun, int_limit=1.0):\n",
    "    ''' Calculate the percentage contributions of M d-orbitals and \n",
    "    O p-orbitals to the upper valence band of Li-M-O systems. \n",
    "    Args:\n",
    "        vasprun: Pymatgen vasprun file. \n",
    "        int_limit (float): Limit to integrate over; how far down the \n",
    "        valence band to include as 'upper valence band'.\n",
    "    '''\n",
    "    tm = [m for m in vasprun.final_structure.composition \n",
    "          if m.symbol not in ['Li','O']][0]\n",
    "    DOS = vasprun.complete_dos\n",
    "    \n",
    "    # Isolate O p- and M d-orbital contributions \n",
    "    O_DOS = DOS.get_element_spd_dos(el=O)\n",
    "    O_p_DOS = O_DOS[p_orb]\n",
    "\n",
    "    M_DOS = DOS.get_element_spd_dos(el=tm)\n",
    "    M_d_DOS = M_DOS[d_orb]\n",
    "\n",
    "    # Get the energies and densities from up and down spin channel \n",
    "    energies = O_p_DOS.energies\n",
    "    O_p_tot = O_p_DOS.densities[Spin(1)] + O_p_DOS.densities[Spin(-1)]\n",
    "    M_d_tot = M_d_DOS.densities[Spin(1)] + M_d_DOS.densities[Spin(-1)]\n",
    "\n",
    "    # Integrate over some portion of the upper valence band \n",
    "    efermi = DOS.efermi\n",
    "    int_limit = 1.0 # eV integration limit\n",
    "\n",
    "    upper_vbm_O_p = np.array([[en, dens] for en, dens in zip(energies, O_p_tot) \n",
    "                             if efermi - int_limit <= en <= efermi])\n",
    "    upper_vbm_O_p = upper_vbm_O_p.transpose()\n",
    "\n",
    "    upper_vbm_M_d = np.array([[en, dens] for en, dens in zip(energies, M_d_tot) \n",
    "                             if efermi - int_limit <= en <= efermi])\n",
    "    upper_vbm_M_d = upper_vbm_M_d.transpose()\n",
    "\n",
    "    O_p_int = simps(upper_vbm_O_p[1], upper_vbm_O_p[0])\n",
    "    M_d_int = simps(upper_vbm_M_d[1], upper_vbm_M_d[0])\n",
    "\n",
    "    # Calculate the percentage of each contribution to VBM \n",
    "    vbm_int = O_p_int + M_d_int\n",
    "    O_p_contrib = O_p_int/vbm_int*100\n",
    "    M_d_contrib = M_d_int/vbm_int*100\n",
    "    print(vasprun.final_structure.composition.reduced_formula)\n",
    "    print(f\"O p contribution: {O_p_contrib :.2f}%\")\n",
    "    print(f\"{tm.symbol} d contribution: {M_d_contrib :.2f}%\") "
   ]
  },
  {
   "cell_type": "code",
   "execution_count": 13,
   "metadata": {},
   "outputs": [
    {
     "name": "stdout",
     "output_type": "stream",
     "text": [
      "LiRuO2\n",
      "O p contribution: 20.35%\n",
      "Ru d contribution: 79.65%\n",
      "Li2RuO3\n",
      "O p contribution: 34.65%\n",
      "Ru d contribution: 65.35%\n",
      "LiWO2\n",
      "O p contribution: 18.12%\n",
      "W d contribution: 81.88%\n",
      "Li2WO3\n",
      "O p contribution: 24.85%\n",
      "W d contribution: 75.15%\n"
     ]
    }
   ],
   "source": [
    "LiRuO2 = Vasprun('../Data/electronic_structure_data/3_LiRuO2/vasprun.xml')\n",
    "upper_VB_contribs(LiRuO2)\n",
    "Li2RuO3 = Vasprun('../Data/electronic_structure_data/4_Li2RuO3/vasprun.xml')\n",
    "upper_VB_contribs(Li2RuO3)\n",
    "\n",
    "LiWO2 = Vasprun('../Data/electronic_structure_data/5_LiWO2/vasprun.xml')\n",
    "upper_VB_contribs(LiWO2)\n",
    "Li2WO3 = Vasprun('../Data/electronic_structure_data/6_Li2WO3/vasprun.xml')\n",
    "upper_VB_contribs(Li2WO3)"
   ]
  },
  {
   "cell_type": "code",
   "execution_count": null,
   "metadata": {},
   "outputs": [],
   "source": []
  },
  {
   "cell_type": "code",
   "execution_count": null,
   "metadata": {},
   "outputs": [],
   "source": []
  }
 ],
 "metadata": {
  "kernelspec": {
   "display_name": "Python 3",
   "language": "python",
   "name": "python3"
  },
  "language_info": {
   "codemirror_mode": {
    "name": "ipython",
    "version": 3
   },
   "file_extension": ".py",
   "mimetype": "text/x-python",
   "name": "python",
   "nbconvert_exporter": "python",
   "pygments_lexer": "ipython3",
   "version": "3.7.4"
  }
 },
 "nbformat": 4,
 "nbformat_minor": 4
}
