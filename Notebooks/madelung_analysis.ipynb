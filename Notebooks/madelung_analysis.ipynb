{
 "cells": [
  {
   "cell_type": "code",
   "execution_count": 11,
   "metadata": {},
   "outputs": [],
   "source": [
    "### Imports\n",
    "# General\n",
    "import json\n",
    "import numpy as np\n",
    "# Pymatgen\n",
    "from pymatgen import Structure, Element, Specie\n",
    "from pymatgen.analysis.ewald import EwaldSummation\n",
    "# Plotting\n",
    "\n",
    "# Matplotlib for plotting\n",
    "import matplotlib as mpl\n",
    "import matplotlib.pyplot as plt\n",
    "import matplotlib.pylab as pylab\n",
    "\n",
    "### Matplotlib style ###\n",
    "mpl.rc_file('../Data/matplotlibrc')\n",
    "mpl.rcParams['figure.figsize'] = (7.0,4.5)\n",
    "mpl.style.use('ggplot')\n",
    "clrs = ['#254654','#219e8f', '#eac563', '#f6a25a', '#e96f4c']"
   ]
  },
  {
   "cell_type": "markdown",
   "metadata": {},
   "source": [
    "## LiMO2 and Li2MO3 systems"
   ]
  },
  {
   "cell_type": "code",
   "execution_count": 2,
   "metadata": {},
   "outputs": [
    {
     "name": "stdout",
     "output_type": "stream",
     "text": [
      "48 LiMO2 and Li2MO3 structures loaded.\n"
     ]
    }
   ],
   "source": [
    "# Load structures \n",
    "with open('../Data/relaxed_structures.json', 'r') as f:\n",
    "    structures = json.load(f)\n",
    "    \n",
    "# Covert back to Pymatgen Structure objects\n",
    "structures = [Structure.from_dict(i) for i in structures]\n",
    "print('{} LiMO2 and Li2MO3 structures loaded.'.format(len(structures)))"
   ]
  },
  {
   "cell_type": "markdown",
   "metadata": {},
   "source": [
    "In order to calculate Madelung site potentials, we need to add oxidation states to the structures. Various strategies exist for adding formal oxidation states in pymatgen: \n",
    "1. Using the bond valence analysis module\n",
    "2. Adding oxidation states by guess based on the composition\n",
    "3. Manually replacing Elements for Species we want \n",
    "\n",
    "Approaches 1. and 2. are generally less clunky but we are considering some uncommon oxidation states for certain transition metals, so will use the latter approach:"
   ]
  },
  {
   "cell_type": "code",
   "execution_count": 3,
   "metadata": {},
   "outputs": [],
   "source": [
    "for struc in structures:\n",
    "    # Find and assign the transition metal\n",
    "    tm = [m for m in struc.composition if m.symbol not in ['Li','O']][0]\n",
    "    # Assign transition metal correct charge\n",
    "    if struc.composition.anonymized_formula == 'AB2C3':\n",
    "        tm_sp = Specie(tm.symbol, 4)\n",
    "    elif struc.composition.anonymized_formula == 'ABC2':\n",
    "        tm_sp = Specie(tm.symbol, 3)\n",
    "    else:\n",
    "        raise ValueError('Structure is not of the correct stoichiometry for this example.')\n",
    "    \n",
    "    # Perform species replacement     \n",
    "    struc.replace_species({'Li': 'Li+', 'O': 'O2-', tm: tm_sp})"
   ]
  },
  {
   "cell_type": "markdown",
   "metadata": {},
   "source": [
    "We now use the `EwaldSummation` class to calculate madelung site potentials."
   ]
  },
  {
   "cell_type": "code",
   "execution_count": 7,
   "metadata": {},
   "outputs": [],
   "source": [
    "def get_madelung_site_pots(struc, el_symbol, average=False):\n",
    "    ''' Calculates the Madelung site potentials for a chosen\n",
    "        element in a structure. Returns either a np.array of \n",
    "        Madelung potentials or an average.\n",
    "    '''\n",
    "    ews = EwaldSummation(struc)\n",
    "    indices = [n for n,site in enumerate(struc) \n",
    "                 if site.specie.symbol==el_symbol]\n",
    "    mads = np.array([ews.get_site_energy(n) for n in indices])\n",
    "    \n",
    "    mads = np.mean(mads) if average else mads\n",
    "    return(mads)"
   ]
  },
  {
   "cell_type": "code",
   "execution_count": 24,
   "metadata": {},
   "outputs": [],
   "source": [
    "# Calculate average O madelung site potentials for each structure\n",
    "results = []\n",
    "for struc in structures:\n",
    "    # Calculate madelung potential\n",
    "    ave_O_mad = get_madelung_site_pots(struc, 'O', average=True)\n",
    "    # We also get the transition metal for plotting later\n",
    "    tm = [m for m in struc.composition if m.symbol not in ['Li','O']][0]\n",
    "    # Put everything in the list of results as a dict\n",
    "    results.append({'structure': struc,\n",
    "                    'O_mad': ave_O_mad,\n",
    "                    'TM': tm.symbol})"
   ]
  },
  {
   "cell_type": "markdown",
   "metadata": {},
   "source": [
    "Finally, we plot the average O madelung potentials."
   ]
  },
  {
   "cell_type": "code",
   "execution_count": 29,
   "metadata": {},
   "outputs": [
    {
     "name": "stdout",
     "output_type": "stream",
     "text": [
      "[-24.748517561248594, -24.80649726495497, -25.15067234817959, -24.925712462443634, -24.891461200462636, -26.437927791035992, -25.792523613613223, -25.312386629818107, -22.940348311569608, -23.03066687312407, -23.450379532059237, -23.71137669505631, -24.34457909059107, -24.54142217309076, -23.561427528749093, -22.889071999478112, -23.22797094839149, -22.969110614475234, -23.13727970370109, -23.026910124507005, -24.025046318251775, -24.0341588877521, -23.383622653629015, -22.754171484414574]\n",
      "[-25.731001461141148, -25.905059424525376, -26.220765801699468, -26.38330399141387, -26.1005199273485, -26.995627112560925, -27.01287139848081, -26.27156594694674, -24.102750256793797, -24.30179644013782, -24.60367559442083, -24.981491847384603, -25.130265973380904, -25.287410571328838, -25.192979751204604, -24.255687332290027, -24.349339483149866, -24.45263161443953, -24.322370177449642, -24.612140079532367, -24.758742083884542, -24.907700361445563, -24.876470715988322, -23.946068590674116]\n"
     ]
    }
   ],
   "source": [
    "# Create 2 list of data\n",
    "LiMO2 = [i for i in results if i['structure'].composition.anonymized_formula=='ABC2']\n",
    "Li2MO3 = [i for i in results if i['structure'].composition.anonymized_formula=='AB2C3']\n",
    "\n",
    "# x-axis\n",
    "x_data = range(len(LiMO2))\n",
    "x_labels = [i['TM'] for i in results]\n",
    "\n",
    "# Plot each set of data on the same axes\n",
    "for system in [LiMO2, Li2MO3]:\n",
    "    y_data = [i['O_mad'] for i in system]\n"
   ]
  },
  {
   "cell_type": "markdown",
   "metadata": {},
   "source": [
    "## Disordered supercells"
   ]
  },
  {
   "cell_type": "code",
   "execution_count": null,
   "metadata": {},
   "outputs": [],
   "source": []
  }
 ],
 "metadata": {
  "kernelspec": {
   "display_name": "Python 3",
   "language": "python",
   "name": "python3"
  },
  "language_info": {
   "codemirror_mode": {
    "name": "ipython",
    "version": 3
   },
   "file_extension": ".py",
   "mimetype": "text/x-python",
   "name": "python",
   "nbconvert_exporter": "python",
   "pygments_lexer": "ipython3",
   "version": "3.7.4"
  }
 },
 "nbformat": 4,
 "nbformat_minor": 4
}
